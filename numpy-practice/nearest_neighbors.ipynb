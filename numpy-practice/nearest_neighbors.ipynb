{
 "cells": [
  {
   "cell_type": "code",
   "execution_count": 9,
   "metadata": {
    "collapsed": true
   },
   "outputs": [],
   "source": [
    "import numpy as np\n",
    "import typing as tp"
   ]
  },
  {
   "cell_type": "code",
   "execution_count": 10,
   "metadata": {},
   "outputs": [],
   "source": [
    "def find_nearest_points(a: np.ndarray, b: np.ndarray, k: int) -> np.ndarray:\n",
    "    count_a = a.sum(axis=1).size\n",
    "    count_b = b.sum(axis=1).size\n",
    "\n",
    "    diff = (np.expand_dims(b.T, axis=0) - np.expand_dims(a, axis=-1)).T\n",
    "    mul = (diff * diff).sum(axis=1)\n",
    "\n",
    "    return (np.argsort(mul, axis=1) + np.ones((count_b, count_a)))[0:count_b, 0:k].astype('int32')"
   ]
  },
  {
   "cell_type": "code",
   "execution_count": 14,
   "metadata": {},
   "outputs": [
    {
     "data": {
      "text/plain": [
       "array([[1, 4, 2],\n",
       "       [3, 1, 5],\n",
       "       [2, 5, 4],\n",
       "       [1, 4, 2],\n",
       "       [1, 4, 2]], dtype=int32)"
      ]
     },
     "execution_count": 14,
     "metadata": {},
     "output_type": "execute_result"
    }
   ],
   "source": [
    "A = np.array([[0, 0],\n",
    "              [1, 0],\n",
    "              [2, 0]])\n",
    "B = np.array([[0, 1],\n",
    "              [2, 1]])\n",
    "\n",
    "# first_a = first.sum(axis=1).size\n",
    "# second_b = second.sum(axis=1).size\n",
    "#\n",
    "# first = np.expand_dims(first, axis=-1)\n",
    "# second = np.expand_dims(second.T, axis=0)\n",
    "#\n",
    "# tmp = (second - first).T\n",
    "# tmp"
   ]
  },
  {
   "cell_type": "code",
   "execution_count": null,
   "metadata": {},
   "outputs": [],
   "source": [
    "mul = (tmp * tmp).sum(axis=1)\n",
    "mul"
   ]
  },
  {
   "cell_type": "code",
   "execution_count": 223,
   "metadata": {},
   "outputs": [
    {
     "data": {
      "text/plain": [
       "array([[1., 2.],\n",
       "       [3., 2.]])"
      ]
     },
     "execution_count": 223,
     "metadata": {},
     "output_type": "execute_result"
    }
   ],
   "source": [
    "(np.argsort(mul, axis=1) + np.ones((c_second, c_first)))[0:2, 0:2]"
   ]
  },
  {
   "cell_type": "code",
   "execution_count": 171,
   "metadata": {},
   "outputs": [
    {
     "data": {
      "text/plain": [
       "(2, 3)"
      ]
     },
     "execution_count": 171,
     "metadata": {},
     "output_type": "execute_result"
    }
   ],
   "source": [
    "np.shape(mul)"
   ]
  },
  {
   "cell_type": "code",
   "execution_count": 172,
   "metadata": {},
   "outputs": [
    {
     "data": {
      "text/plain": [
       "array([[[1],\n",
       "        [2],\n",
       "        [5]],\n",
       "\n",
       "       [[5],\n",
       "        [2],\n",
       "        [1]]])"
      ]
     },
     "execution_count": 172,
     "metadata": {},
     "output_type": "execute_result"
    }
   ],
   "source": [
    "mul = mul[:, :, np.newaxis]\n",
    "mul"
   ]
  },
  {
   "cell_type": "code",
   "execution_count": 173,
   "metadata": {},
   "outputs": [
    {
     "data": {
      "text/plain": [
       "(2, 3, 1)"
      ]
     },
     "execution_count": 173,
     "metadata": {},
     "output_type": "execute_result"
    }
   ],
   "source": [
    "arr = np.arange(1, c_first + 1).T\n",
    "arr = arr[np.newaxis, :]\n",
    "arr = arr[:, :, np.newaxis]\n",
    "np.shape(arr)\n",
    "\n",
    "arr = np.repeat(arr, c_second, axis=0)\n",
    "np.shape(arr)"
   ]
  },
  {
   "cell_type": "code",
   "execution_count": 174,
   "metadata": {},
   "outputs": [
    {
     "data": {
      "text/plain": [
       "array([[[1, 1],\n",
       "        [2, 2],\n",
       "        [5, 3]],\n",
       "\n",
       "       [[5, 1],\n",
       "        [2, 2],\n",
       "        [1, 3]]])"
      ]
     },
     "execution_count": 174,
     "metadata": {},
     "output_type": "execute_result"
    }
   ],
   "source": [
    "mul = np.dstack((mul, arr))\n",
    "mul"
   ]
  },
  {
   "cell_type": "code",
   "execution_count": 175,
   "metadata": {},
   "outputs": [
    {
     "data": {
      "text/plain": [
       "array([[[1, 1],\n",
       "        [2, 2],\n",
       "        [3, 5]],\n",
       "\n",
       "       [[1, 5],\n",
       "        [2, 2],\n",
       "        [1, 3]]])"
      ]
     },
     "execution_count": 175,
     "metadata": {},
     "output_type": "execute_result"
    }
   ],
   "source": [
    "np.sort(mul, axis=2)"
   ]
  },
  {
   "cell_type": "code",
   "execution_count": null,
   "metadata": {},
   "outputs": [],
   "source": []
  }
 ],
 "metadata": {
  "kernelspec": {
   "display_name": "Python 3 (ipykernel)",
   "language": "python",
   "name": "python3"
  },
  "language_info": {
   "codemirror_mode": {
    "name": "ipython",
    "version": 3
   },
   "file_extension": ".py",
   "mimetype": "text/x-python",
   "name": "python",
   "nbconvert_exporter": "python",
   "pygments_lexer": "ipython3",
   "version": "3.9.13"
  }
 },
 "nbformat": 4,
 "nbformat_minor": 1
}
