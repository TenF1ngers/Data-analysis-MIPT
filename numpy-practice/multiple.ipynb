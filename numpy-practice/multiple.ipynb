{
 "cells": [
  {
   "cell_type": "code",
   "execution_count": 28,
   "outputs": [],
   "source": [
    "import numpy as np\n",
    "import typing as tp\n",
    "\n",
    "import pandas as pd"
   ],
   "metadata": {
    "collapsed": false
   }
  },
  {
   "cell_type": "code",
   "execution_count": 29,
   "outputs": [],
   "source": [
    "def matrix_multiplication(a: np.ndarray, b: np.ndarray) -> np.ndarray:\n",
    "    return (a[:, :, np.newaxis] * (b[np.newaxis, :])).sum(axis=1)"
   ],
   "metadata": {
    "collapsed": false
   }
  },
  {
   "cell_type": "code",
   "execution_count": null,
   "outputs": [],
   "source": [
    "sql = pd.read_sql()"
   ],
   "metadata": {
    "collapsed": false
   }
  },
  {
   "cell_type": "code",
   "execution_count": 31,
   "outputs": [
    {
     "data": {
      "text/plain": "array([[[4],\n        [5]],\n\n       [[3],\n        [6]],\n\n       [[2],\n        [7]],\n\n       [[1],\n        [6]]])"
     },
     "execution_count": 31,
     "metadata": {},
     "output_type": "execute_result"
    }
   ],
   "source": [
    "first = np.array([[4, 5],\n",
    "                  [3, 6],\n",
    "                  [2, 7],\n",
    "                  [1, 6]])\n",
    "\n",
    "second = np.array([[2, 1, 7],\n",
    "                  [3, 4, 8]])\n",
    "\n",
    "first = first[:, :, np.newaxis]\n",
    "second = second[np.newaxis, :]\n",
    "\n",
    "first"
   ],
   "metadata": {
    "collapsed": false
   }
  },
  {
   "cell_type": "code",
   "execution_count": 34,
   "outputs": [
    {
     "data": {
      "text/plain": "array([[[2, 1, 7],\n        [3, 4, 8]]])"
     },
     "execution_count": 34,
     "metadata": {},
     "output_type": "execute_result"
    }
   ],
   "source": [
    "second"
   ],
   "metadata": {
    "collapsed": false
   }
  },
  {
   "cell_type": "code",
   "execution_count": 33,
   "outputs": [
    {
     "data": {
      "text/plain": "array([[[ 8,  4, 28],\n        [15, 20, 40]],\n\n       [[ 6,  3, 21],\n        [18, 24, 48]],\n\n       [[ 4,  2, 14],\n        [21, 28, 56]],\n\n       [[ 2,  1,  7],\n        [18, 24, 48]]])"
     },
     "execution_count": 33,
     "metadata": {},
     "output_type": "execute_result"
    }
   ],
   "source": [
    "first * second"
   ],
   "metadata": {
    "collapsed": false
   }
  },
  {
   "cell_type": "code",
   "execution_count": null,
   "outputs": [],
   "source": [],
   "metadata": {
    "collapsed": false
   }
  }
 ],
 "metadata": {
  "kernelspec": {
   "display_name": "Python 3",
   "language": "python",
   "name": "python3"
  },
  "language_info": {
   "codemirror_mode": {
    "name": "ipython",
    "version": 2
   },
   "file_extension": ".py",
   "mimetype": "text/x-python",
   "name": "python",
   "nbconvert_exporter": "python",
   "pygments_lexer": "ipython2",
   "version": "2.7.6"
  }
 },
 "nbformat": 4,
 "nbformat_minor": 0
}
