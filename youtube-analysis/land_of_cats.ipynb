{
 "cells": [
  {
   "cell_type": "code",
   "execution_count": 236,
   "metadata": {
    "collapsed": true
   },
   "outputs": [],
   "source": [
    "import pandas as pd\n",
    "import matplotlib.pyplot as plt\n",
    "import typing as tp\n",
    "from matplotlib.axes import Axes"
   ]
  },
  {
   "cell_type": "code",
   "execution_count": 237,
   "outputs": [],
   "source": [
    "class CatExam:\n",
    "    def __init__(self, path_to_df: str=\"cat_exam_data.csv\"):  # task0\n",
    "        self.df = pd.read_csv(path_to_df)\n",
    "\n",
    "    def task1(self) -> pd.DataFrame:\n",
    "        return self.df.head()\n",
    "\n",
    "    def task2(self) -> tp.List[str]:\n",
    "        new_df = self.df.loc[:, self.df.isnull().any()].copy()\n",
    "        return list(new_df.columns)\n",
    "\n",
    "    def task3(self) -> pd.DataFrame:\n",
    "        self.df = self.df.dropna()\n",
    "        return self.df\n",
    "\n",
    "    def task4(self) -> pd.DataFrame:\n",
    "        return self.df.describe()\n",
    "\n",
    "    def task5(self) -> int:\n",
    "        return len(self.df[self.df['test_score'] == 100].index)\n",
    "\n",
    "    def task6(self) -> pd.DataFrame:\n",
    "        hundred = self.df[self.df['test_score'] == 100]\n",
    "        cnt = hundred.groupby('school')['test_score'].sum().rename('cnt_100').reset_index()\n",
    "        cnt['cnt_100'] = cnt['cnt_100'].apply(lambda x: x / 100).astype('int32')\n",
    "        del hundred['test_score']\n",
    "        hundred = hundred.drop_duplicates(subset=['school']).reset_index(drop=True)\n",
    "        hundred = hundred.merge(cnt)\n",
    "        return hundred.sort_values(by=['cnt_100','school'], ascending=False)\n",
    "\n",
    "    def task7(self) -> pd.DataFrame:\n",
    "        mean = self.df.groupby('school')['test_score'].mean().rename('test_score').reset_index()\n",
    "        members = self.df.groupby('school')['number_of_students'].mean().rename('number_of_students').reset_index()\n",
    "        cats = mean.merge(members).sort_values(by='test_score', ascending=False).reset_index(drop=True)\n",
    "        return cats.head(10)\n",
    "\n",
    "    def task8(self) -> pd.DataFrame:\n",
    "        mean = self.df.groupby('school')['test_score'].mean().rename('test_score').reset_index()\n",
    "        members = self.df.groupby('school')['number_of_students'].mean().rename('number_of_students').reset_index()\n",
    "        cats = mean.merge(members).sort_values(by='test_score', ascending=False).reset_index(drop=True)\n",
    "        return cats.tail(10)\n",
    "\n",
    "    def task9(self) -> Axes:\n",
    "        small = self.df[self.df['number_of_students'] <= 1000]\n",
    "        big = self.df[self.df['number_of_students'] > 1000]\n",
    "\n",
    "        fig = plt.figure()\n",
    "        ax = fig.add_subplot()\n",
    "\n",
    "        ax.set(facecolor='white',\n",
    "               title='Распределение оценок учеников',\n",
    "               xlabel='Балл',\n",
    "               ylabel='Количество')\n",
    "\n",
    "        plt.hist(small['test_score'], bins=10, alpha=0.5, color='b', label='Маленькая школа')\n",
    "        plt.hist(big['test_score'], bins=10, alpha=0.5, color='r', label='Большая школа')\n",
    "        ax.legend()\n",
    "        return plt.gca()"
   ],
   "metadata": {
    "collapsed": false
   }
  },
  {
   "cell_type": "code",
   "execution_count": 244,
   "outputs": [
    {
     "data": {
      "text/plain": "   school  test_score  number_of_students\n0      26        39.0                 965\n1      54        64.0                1483\n2     356        64.0                1055\n3     108        68.0                1806\n4     298        78.0                 971",
      "text/html": "<div>\n<style scoped>\n    .dataframe tbody tr th:only-of-type {\n        vertical-align: middle;\n    }\n\n    .dataframe tbody tr th {\n        vertical-align: top;\n    }\n\n    .dataframe thead th {\n        text-align: right;\n    }\n</style>\n<table border=\"1\" class=\"dataframe\">\n  <thead>\n    <tr style=\"text-align: right;\">\n      <th></th>\n      <th>school</th>\n      <th>test_score</th>\n      <th>number_of_students</th>\n    </tr>\n  </thead>\n  <tbody>\n    <tr>\n      <th>0</th>\n      <td>26</td>\n      <td>39.0</td>\n      <td>965</td>\n    </tr>\n    <tr>\n      <th>1</th>\n      <td>54</td>\n      <td>64.0</td>\n      <td>1483</td>\n    </tr>\n    <tr>\n      <th>2</th>\n      <td>356</td>\n      <td>64.0</td>\n      <td>1055</td>\n    </tr>\n    <tr>\n      <th>3</th>\n      <td>108</td>\n      <td>68.0</td>\n      <td>1806</td>\n    </tr>\n    <tr>\n      <th>4</th>\n      <td>298</td>\n      <td>78.0</td>\n      <td>971</td>\n    </tr>\n  </tbody>\n</table>\n</div>"
     },
     "execution_count": 244,
     "metadata": {},
     "output_type": "execute_result"
    }
   ],
   "source": [
    "cat = CatExam()\n",
    "cat.df.head()"
   ],
   "metadata": {
    "collapsed": false
   }
  },
  {
   "cell_type": "code",
   "execution_count": 252,
   "outputs": [
    {
     "data": {
      "text/plain": "['test_score']"
     },
     "execution_count": 252,
     "metadata": {},
     "output_type": "execute_result"
    }
   ],
   "source": [
    "# new_cat = cat.df.dropna()\n",
    "# new_cat = new_cat.isna()\n",
    "# new_cat = new_cat.replace(False, None)\n",
    "# new_cat = new_cat.dropna(axis=1, how='all')\n",
    "new_cat = cat.df.loc[:, cat.df.isnull().any()].copy()\n",
    "list(new_cat.columns)"
   ],
   "metadata": {
    "collapsed": false
   }
  },
  {
   "cell_type": "code",
   "execution_count": 240,
   "outputs": [
    {
     "data": {
      "text/plain": "        school test_score number_of_students\ncount   501562     501562             501562\nunique       1          2                  1\ntop      False      False              False\nfreq    501562     501358             501562",
      "text/html": "<div>\n<style scoped>\n    .dataframe tbody tr th:only-of-type {\n        vertical-align: middle;\n    }\n\n    .dataframe tbody tr th {\n        vertical-align: top;\n    }\n\n    .dataframe thead th {\n        text-align: right;\n    }\n</style>\n<table border=\"1\" class=\"dataframe\">\n  <thead>\n    <tr style=\"text-align: right;\">\n      <th></th>\n      <th>school</th>\n      <th>test_score</th>\n      <th>number_of_students</th>\n    </tr>\n  </thead>\n  <tbody>\n    <tr>\n      <th>count</th>\n      <td>501562</td>\n      <td>501562</td>\n      <td>501562</td>\n    </tr>\n    <tr>\n      <th>unique</th>\n      <td>1</td>\n      <td>2</td>\n      <td>1</td>\n    </tr>\n    <tr>\n      <th>top</th>\n      <td>False</td>\n      <td>False</td>\n      <td>False</td>\n    </tr>\n    <tr>\n      <th>freq</th>\n      <td>501562</td>\n      <td>501358</td>\n      <td>501562</td>\n    </tr>\n  </tbody>\n</table>\n</div>"
     },
     "execution_count": 240,
     "metadata": {},
     "output_type": "execute_result"
    }
   ],
   "source": [
    "new_cat = cat.df.isna()\n",
    "new_cat.describe()\n",
    "# new_cat = new_cat.replace(False, None)\n",
    "# new_cat = new_cat.dropna(axis=1, how='all')\n",
    "# list(new_cat.columns)"
   ],
   "metadata": {
    "collapsed": false
   }
  },
  {
   "cell_type": "code",
   "execution_count": 188,
   "outputs": [
    {
     "data": {
      "text/plain": "              school     test_score  number_of_students\ncount  501358.000000  501358.000000       501358.000000\nmean      250.096795      51.681788         1088.910569\nstd       144.428420      14.179981          281.016801\nmin         0.000000       0.000000          156.000000\n25%       125.000000      42.000000          890.000000\n50%       250.000000      52.000000         1079.000000\n75%       377.000000      61.000000         1285.000000\nmax       499.000000     100.000000         1806.000000",
      "text/html": "<div>\n<style scoped>\n    .dataframe tbody tr th:only-of-type {\n        vertical-align: middle;\n    }\n\n    .dataframe tbody tr th {\n        vertical-align: top;\n    }\n\n    .dataframe thead th {\n        text-align: right;\n    }\n</style>\n<table border=\"1\" class=\"dataframe\">\n  <thead>\n    <tr style=\"text-align: right;\">\n      <th></th>\n      <th>school</th>\n      <th>test_score</th>\n      <th>number_of_students</th>\n    </tr>\n  </thead>\n  <tbody>\n    <tr>\n      <th>count</th>\n      <td>501358.000000</td>\n      <td>501358.000000</td>\n      <td>501358.000000</td>\n    </tr>\n    <tr>\n      <th>mean</th>\n      <td>250.096795</td>\n      <td>51.681788</td>\n      <td>1088.910569</td>\n    </tr>\n    <tr>\n      <th>std</th>\n      <td>144.428420</td>\n      <td>14.179981</td>\n      <td>281.016801</td>\n    </tr>\n    <tr>\n      <th>min</th>\n      <td>0.000000</td>\n      <td>0.000000</td>\n      <td>156.000000</td>\n    </tr>\n    <tr>\n      <th>25%</th>\n      <td>125.000000</td>\n      <td>42.000000</td>\n      <td>890.000000</td>\n    </tr>\n    <tr>\n      <th>50%</th>\n      <td>250.000000</td>\n      <td>52.000000</td>\n      <td>1079.000000</td>\n    </tr>\n    <tr>\n      <th>75%</th>\n      <td>377.000000</td>\n      <td>61.000000</td>\n      <td>1285.000000</td>\n    </tr>\n    <tr>\n      <th>max</th>\n      <td>499.000000</td>\n      <td>100.000000</td>\n      <td>1806.000000</td>\n    </tr>\n  </tbody>\n</table>\n</div>"
     },
     "execution_count": 188,
     "metadata": {},
     "output_type": "execute_result"
    }
   ],
   "source": [
    "none_cat = cat.task3()\n",
    "none_cat.describe()"
   ],
   "metadata": {
    "collapsed": false
   }
  },
  {
   "cell_type": "markdown",
   "source": [],
   "metadata": {
    "collapsed": false
   }
  },
  {
   "cell_type": "code",
   "execution_count": 189,
   "outputs": [
    {
     "data": {
      "text/plain": "51"
     },
     "execution_count": 189,
     "metadata": {},
     "output_type": "execute_result"
    }
   ],
   "source": [
    "len(none_cat[none_cat['test_score'] == 100].index)"
   ],
   "metadata": {
    "collapsed": false
   }
  },
  {
   "cell_type": "code",
   "execution_count": 197,
   "outputs": [
    {
     "data": {
      "text/plain": "    school  number_of_students  cnt_100\n36     486                 800        2\n11     498                 796        1\n48     483                1222        1\n26     471                 960        1\n29     463                 809        1\n31     451                1077        1\n46     436                 878        1\n13     429                 768        1\n15     425                 929        1\n33     414                1134        1\n35     412                1032        1\n49     403                1317        1\n40     395                 436        1\n3      394                1079        1\n12     359                 895        1\n39     357                1003        1\n38     351                1224        1\n43     346                 913        1\n44     342                 920        1\n9      328                 789        1\n23     315                 580        1\n16     303                 701        1\n2      302                1517        1\n0      283                 823        1\n24     282                1505        1\n19     261                 983        1\n22     256                 996        1\n1      233                1140        1\n17     232                 999        1\n10     229                1244        1\n25     226                 923        1\n14     206                 973        1\n45     195                1035        1\n8      184                 742        1\n47     120                1334        1\n4      114                1231        1\n41     113                 939        1\n30     111                1168        1\n5      105                1164        1\n32     101                 571        1\n21      98                 775        1\n27      96                 943        1\n6       91                 749        1\n42      90                1244        1\n34      82                 555        1\n20      69                1012        1\n28      42                 650        1\n37      18                 715        1\n7       14                 777        1\n18       4                1015        1",
      "text/html": "<div>\n<style scoped>\n    .dataframe tbody tr th:only-of-type {\n        vertical-align: middle;\n    }\n\n    .dataframe tbody tr th {\n        vertical-align: top;\n    }\n\n    .dataframe thead th {\n        text-align: right;\n    }\n</style>\n<table border=\"1\" class=\"dataframe\">\n  <thead>\n    <tr style=\"text-align: right;\">\n      <th></th>\n      <th>school</th>\n      <th>number_of_students</th>\n      <th>cnt_100</th>\n    </tr>\n  </thead>\n  <tbody>\n    <tr>\n      <th>36</th>\n      <td>486</td>\n      <td>800</td>\n      <td>2</td>\n    </tr>\n    <tr>\n      <th>11</th>\n      <td>498</td>\n      <td>796</td>\n      <td>1</td>\n    </tr>\n    <tr>\n      <th>48</th>\n      <td>483</td>\n      <td>1222</td>\n      <td>1</td>\n    </tr>\n    <tr>\n      <th>26</th>\n      <td>471</td>\n      <td>960</td>\n      <td>1</td>\n    </tr>\n    <tr>\n      <th>29</th>\n      <td>463</td>\n      <td>809</td>\n      <td>1</td>\n    </tr>\n    <tr>\n      <th>31</th>\n      <td>451</td>\n      <td>1077</td>\n      <td>1</td>\n    </tr>\n    <tr>\n      <th>46</th>\n      <td>436</td>\n      <td>878</td>\n      <td>1</td>\n    </tr>\n    <tr>\n      <th>13</th>\n      <td>429</td>\n      <td>768</td>\n      <td>1</td>\n    </tr>\n    <tr>\n      <th>15</th>\n      <td>425</td>\n      <td>929</td>\n      <td>1</td>\n    </tr>\n    <tr>\n      <th>33</th>\n      <td>414</td>\n      <td>1134</td>\n      <td>1</td>\n    </tr>\n    <tr>\n      <th>35</th>\n      <td>412</td>\n      <td>1032</td>\n      <td>1</td>\n    </tr>\n    <tr>\n      <th>49</th>\n      <td>403</td>\n      <td>1317</td>\n      <td>1</td>\n    </tr>\n    <tr>\n      <th>40</th>\n      <td>395</td>\n      <td>436</td>\n      <td>1</td>\n    </tr>\n    <tr>\n      <th>3</th>\n      <td>394</td>\n      <td>1079</td>\n      <td>1</td>\n    </tr>\n    <tr>\n      <th>12</th>\n      <td>359</td>\n      <td>895</td>\n      <td>1</td>\n    </tr>\n    <tr>\n      <th>39</th>\n      <td>357</td>\n      <td>1003</td>\n      <td>1</td>\n    </tr>\n    <tr>\n      <th>38</th>\n      <td>351</td>\n      <td>1224</td>\n      <td>1</td>\n    </tr>\n    <tr>\n      <th>43</th>\n      <td>346</td>\n      <td>913</td>\n      <td>1</td>\n    </tr>\n    <tr>\n      <th>44</th>\n      <td>342</td>\n      <td>920</td>\n      <td>1</td>\n    </tr>\n    <tr>\n      <th>9</th>\n      <td>328</td>\n      <td>789</td>\n      <td>1</td>\n    </tr>\n    <tr>\n      <th>23</th>\n      <td>315</td>\n      <td>580</td>\n      <td>1</td>\n    </tr>\n    <tr>\n      <th>16</th>\n      <td>303</td>\n      <td>701</td>\n      <td>1</td>\n    </tr>\n    <tr>\n      <th>2</th>\n      <td>302</td>\n      <td>1517</td>\n      <td>1</td>\n    </tr>\n    <tr>\n      <th>0</th>\n      <td>283</td>\n      <td>823</td>\n      <td>1</td>\n    </tr>\n    <tr>\n      <th>24</th>\n      <td>282</td>\n      <td>1505</td>\n      <td>1</td>\n    </tr>\n    <tr>\n      <th>19</th>\n      <td>261</td>\n      <td>983</td>\n      <td>1</td>\n    </tr>\n    <tr>\n      <th>22</th>\n      <td>256</td>\n      <td>996</td>\n      <td>1</td>\n    </tr>\n    <tr>\n      <th>1</th>\n      <td>233</td>\n      <td>1140</td>\n      <td>1</td>\n    </tr>\n    <tr>\n      <th>17</th>\n      <td>232</td>\n      <td>999</td>\n      <td>1</td>\n    </tr>\n    <tr>\n      <th>10</th>\n      <td>229</td>\n      <td>1244</td>\n      <td>1</td>\n    </tr>\n    <tr>\n      <th>25</th>\n      <td>226</td>\n      <td>923</td>\n      <td>1</td>\n    </tr>\n    <tr>\n      <th>14</th>\n      <td>206</td>\n      <td>973</td>\n      <td>1</td>\n    </tr>\n    <tr>\n      <th>45</th>\n      <td>195</td>\n      <td>1035</td>\n      <td>1</td>\n    </tr>\n    <tr>\n      <th>8</th>\n      <td>184</td>\n      <td>742</td>\n      <td>1</td>\n    </tr>\n    <tr>\n      <th>47</th>\n      <td>120</td>\n      <td>1334</td>\n      <td>1</td>\n    </tr>\n    <tr>\n      <th>4</th>\n      <td>114</td>\n      <td>1231</td>\n      <td>1</td>\n    </tr>\n    <tr>\n      <th>41</th>\n      <td>113</td>\n      <td>939</td>\n      <td>1</td>\n    </tr>\n    <tr>\n      <th>30</th>\n      <td>111</td>\n      <td>1168</td>\n      <td>1</td>\n    </tr>\n    <tr>\n      <th>5</th>\n      <td>105</td>\n      <td>1164</td>\n      <td>1</td>\n    </tr>\n    <tr>\n      <th>32</th>\n      <td>101</td>\n      <td>571</td>\n      <td>1</td>\n    </tr>\n    <tr>\n      <th>21</th>\n      <td>98</td>\n      <td>775</td>\n      <td>1</td>\n    </tr>\n    <tr>\n      <th>27</th>\n      <td>96</td>\n      <td>943</td>\n      <td>1</td>\n    </tr>\n    <tr>\n      <th>6</th>\n      <td>91</td>\n      <td>749</td>\n      <td>1</td>\n    </tr>\n    <tr>\n      <th>42</th>\n      <td>90</td>\n      <td>1244</td>\n      <td>1</td>\n    </tr>\n    <tr>\n      <th>34</th>\n      <td>82</td>\n      <td>555</td>\n      <td>1</td>\n    </tr>\n    <tr>\n      <th>20</th>\n      <td>69</td>\n      <td>1012</td>\n      <td>1</td>\n    </tr>\n    <tr>\n      <th>28</th>\n      <td>42</td>\n      <td>650</td>\n      <td>1</td>\n    </tr>\n    <tr>\n      <th>37</th>\n      <td>18</td>\n      <td>715</td>\n      <td>1</td>\n    </tr>\n    <tr>\n      <th>7</th>\n      <td>14</td>\n      <td>777</td>\n      <td>1</td>\n    </tr>\n    <tr>\n      <th>18</th>\n      <td>4</td>\n      <td>1015</td>\n      <td>1</td>\n    </tr>\n  </tbody>\n</table>\n</div>"
     },
     "execution_count": 197,
     "metadata": {},
     "output_type": "execute_result"
    }
   ],
   "source": [
    "# hundred = none_cat[none_cat['test_score'] == 100]\n",
    "# cnt = hundred.groupby('school')['test_score'].sum().rename('cnt_100').reset_index()\n",
    "# cnt['cnt_100'] = cnt['cnt_100'].apply(lambda x: x / 100).astype('int32')\n",
    "# members = hundred\n",
    "# del members['test_score']\n",
    "# members = members.drop_duplicates(subset=['school']).reset_index(drop=True)\n",
    "# members = members.merge(cnt)\n",
    "# members.sort_values(by=['cnt_100','school'], ascending=False)\n",
    "# cats = hundred.merge(calc)\n",
    "# del cats['test_score']\n",
    "# cats.sort_values(by=['cnt_100', 'school'], ascending=False)\n",
    "# cats"
   ],
   "metadata": {
    "collapsed": false
   }
  },
  {
   "cell_type": "code",
   "execution_count": 216,
   "outputs": [
    {
     "data": {
      "text/plain": "     school  test_score  number_of_students\n490     383        55.0                 636\n491     264        48.0                 929\n492      48        60.0                 649\n493     156        66.0                1093\n494     394        68.0                1079\n495     194         6.0                 774\n496     471        29.0                 960\n497     486        67.0                 800\n498     211        55.0                 351\n499     353        61.0                 336",
      "text/html": "<div>\n<style scoped>\n    .dataframe tbody tr th:only-of-type {\n        vertical-align: middle;\n    }\n\n    .dataframe tbody tr th {\n        vertical-align: top;\n    }\n\n    .dataframe thead th {\n        text-align: right;\n    }\n</style>\n<table border=\"1\" class=\"dataframe\">\n  <thead>\n    <tr style=\"text-align: right;\">\n      <th></th>\n      <th>school</th>\n      <th>test_score</th>\n      <th>number_of_students</th>\n    </tr>\n  </thead>\n  <tbody>\n    <tr>\n      <th>490</th>\n      <td>383</td>\n      <td>55.0</td>\n      <td>636</td>\n    </tr>\n    <tr>\n      <th>491</th>\n      <td>264</td>\n      <td>48.0</td>\n      <td>929</td>\n    </tr>\n    <tr>\n      <th>492</th>\n      <td>48</td>\n      <td>60.0</td>\n      <td>649</td>\n    </tr>\n    <tr>\n      <th>493</th>\n      <td>156</td>\n      <td>66.0</td>\n      <td>1093</td>\n    </tr>\n    <tr>\n      <th>494</th>\n      <td>394</td>\n      <td>68.0</td>\n      <td>1079</td>\n    </tr>\n    <tr>\n      <th>495</th>\n      <td>194</td>\n      <td>6.0</td>\n      <td>774</td>\n    </tr>\n    <tr>\n      <th>496</th>\n      <td>471</td>\n      <td>29.0</td>\n      <td>960</td>\n    </tr>\n    <tr>\n      <th>497</th>\n      <td>486</td>\n      <td>67.0</td>\n      <td>800</td>\n    </tr>\n    <tr>\n      <th>498</th>\n      <td>211</td>\n      <td>55.0</td>\n      <td>351</td>\n    </tr>\n    <tr>\n      <th>499</th>\n      <td>353</td>\n      <td>61.0</td>\n      <td>336</td>\n    </tr>\n  </tbody>\n</table>\n</div>"
     },
     "execution_count": 216,
     "metadata": {},
     "output_type": "execute_result"
    }
   ],
   "source": [
    "mean = none_cat.groupby('school')['test_score'].mean().rename('mean').reset_index()\n",
    "cats = none_cat.merge(mean).drop_duplicates(subset='school')\n",
    "cats = cats.sort_values(by='mean', ascending=False).reset_index(drop=True)\n",
    "del cats['mean']\n",
    "cats.head(10)  # or tail"
   ],
   "metadata": {
    "collapsed": false
   }
  },
  {
   "cell_type": "code",
   "execution_count": 234,
   "outputs": [
    {
     "data": {
      "text/plain": "<Figure size 640x480 with 1 Axes>",
      "image/png": "[encoded data removed]"
     },
     "metadata": {},
     "output_type": "display_data"
    }
   ],
   "source": [
    "small = none_cat[none_cat['number_of_students'] <= 1000]\n",
    "big = none_cat[none_cat['number_of_students'] > 1000]\n",
    "\n",
    "fig = plt.figure()\n",
    "ax = fig.add_subplot()\n",
    "\n",
    "ax.set(facecolor='white',\n",
    "       title='Распределение оценок учеников',\n",
    "       xlabel='Балл',\n",
    "       ylabel='Количество')\n",
    "\n",
    "plt.hist(small['test_score'], bins=10, alpha=0.5, color='b', label='Маленькая школа')\n",
    "plt.hist(big['test_score'], bins=10, alpha=0.5, color='r', label='Большая школа')\n",
    "ax.legend()\n",
    "\n",
    "plt.show()"
   ],
   "metadata": {
    "collapsed": false
   }
  },
  {
   "cell_type": "code",
   "execution_count": null,
   "outputs": [],
   "source": [],
   "metadata": {
    "collapsed": false
   }
  }
 ],
 "metadata": {
  "kernelspec": {
   "display_name": "Python 3",
   "language": "python",
   "name": "python3"
  },
  "language_info": {
   "codemirror_mode": {
    "name": "ipython",
    "version": 2
   },
   "file_extension": ".py",
   "mimetype": "text/x-python",
   "name": "python",
   "nbconvert_exporter": "python",
   "pygments_lexer": "ipython2",
   "version": "2.7.6"
  }
 },
 "nbformat": 4,
 "nbformat_minor": 0
}
